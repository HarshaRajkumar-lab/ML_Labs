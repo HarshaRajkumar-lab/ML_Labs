{
  "nbformat": 4,
  "nbformat_minor": 0,
  "metadata": {
    "colab": {
      "provenance": [],
      "toc_visible": true
    },
    "kernelspec": {
      "name": "python3",
      "display_name": "Python 3"
    },
    "language_info": {
      "name": "python"
    }
  },
  "cells": [
    {
      "cell_type": "code",
      "execution_count": 23,
      "metadata": {
        "colab": {
          "base_uri": "https://localhost:8080/"
        },
        "id": "7g9WkvUd-Kbf",
        "outputId": "7622d3d6-c748-4479-f03b-d5e274d96fd9"
      },
      "outputs": [
        {
          "output_type": "stream",
          "name": "stdout",
          "text": [
            "[[20  6  2]\n",
            " [16  3  6]\n",
            " [27  6  2]\n",
            " [19  1  2]\n",
            " [24  4  2]\n",
            " [22  1  5]\n",
            " [15  4  2]\n",
            " [18  4  2]\n",
            " [21  1  4]\n",
            " [16  2  4]]\n",
            "[[386]\n",
            " [289]\n",
            " [393]\n",
            " [110]\n",
            " [280]\n",
            " [167]\n",
            " [271]\n",
            " [274]\n",
            " [148]\n",
            " [198]]\n",
            "THe dimension of the matrix is 3\n",
            "THe no. of vectors in the matrix is 10\n",
            "The rank of the matrix is 3\n",
            "The pseudo inverse of the matrix is [[-0.01008596 -0.03124505  0.01013951  0.0290728   0.0182907   0.01161794\n",
            "  -0.00771348  0.00095458  0.01743623 -0.00542016]\n",
            " [ 0.09059668  0.07263726  0.03172933 -0.09071908 -0.01893196 -0.06926996\n",
            "   0.05675464  0.03152577 -0.07641966  0.00357352]\n",
            " [ 0.00299878  0.15874243 -0.05795468 -0.06609024 -0.06295043  0.03348017\n",
            "   0.01541831 -0.01070461  0.00029003  0.05938755]]\n",
            "The cost of each element in the matrix is [[ 1.]\n",
            " [55.]\n",
            " [18.]]\n"
          ]
        }
      ],
      "source": [
        "import pandas as pd\n",
        "import numpy as np\n",
        "\n",
        "df = pd.read_excel(\"/content/Lab Session Data.xlsx\",sheet_name='Purchase data')\n",
        "\n",
        "\n",
        "A_column= ['Candies (#)','Mangoes (Kg)','Milk Packets (#)']\n",
        "\n",
        "A = df[A_column].values\n",
        "print(A)\n",
        "\n",
        "C_column= ['Payment (Rs)']\n",
        "\n",
        "C = df[C_column].values\n",
        "print(C)\n",
        "dimension = A.shape[1]\n",
        "print(f\"THe dimension of the matrix is {dimension}\")\n",
        "# Shape returns the no. of rows or columns of a matrix\n",
        "vector = A.shape[0]\n",
        "print(f\"THe no. of vectors in the matrix is {vector}\")\n",
        "rank = np.linalg.matrix_rank(A)\n",
        "print(f\"The rank of the matrix is {rank}\")\n",
        "pseudo_inverse = np.linalg.pinv(A)\n",
        "print(f\"The pseudo inverse of the matrix is {pseudo_inverse}\")\n",
        "X = np.dot(pseudo_inverse,C)\n",
        "print(f\"The cost of each element in the matrix is {X}\")"
      ]
    },
    {
      "cell_type": "code",
      "source": [],
      "metadata": {
        "id": "KWrtpQfJL6sZ"
      },
      "execution_count": null,
      "outputs": []
    }
  ]
}