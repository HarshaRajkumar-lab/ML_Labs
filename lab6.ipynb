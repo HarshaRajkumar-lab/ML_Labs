{
  "nbformat": 4,
  "nbformat_minor": 0,
  "metadata": {
    "colab": {
      "provenance": [],
      "toc_visible": true
    },
    "kernelspec": {
      "name": "python3",
      "display_name": "Python 3"
    },
    "language_info": {
      "name": "python"
    }
  },
  "cells": [
    {
      "cell_type": "code",
      "execution_count": 5,
      "metadata": {
        "colab": {
          "base_uri": "https://localhost:8080/",
          "height": 260
        },
        "id": "FzmOcdSaYZo9",
        "outputId": "e2290128-53db-43c2-c141-a5aa48d23e9d"
      },
      "outputs": [
        {
          "output_type": "error",
          "ename": "AttributeError",
          "evalue": "'function' object has no attribute 'shape'",
          "traceback": [
            "\u001b[0;31m---------------------------------------------------------------------------\u001b[0m",
            "\u001b[0;31mAttributeError\u001b[0m                            Traceback (most recent call last)",
            "\u001b[0;32m<ipython-input-5-5cfcbfc516d8>\u001b[0m in \u001b[0;36m<cell line: 20>\u001b[0;34m()\u001b[0m\n\u001b[1;32m     18\u001b[0m \u001b[0mdatasetpath\u001b[0m\u001b[0;34m=\u001b[0m\u001b[0;34m\"/content/bird_species_features.xlsx\"\u001b[0m\u001b[0;34m\u001b[0m\u001b[0;34m\u001b[0m\u001b[0m\n\u001b[1;32m     19\u001b[0m \u001b[0mfeature_columns\u001b[0m\u001b[0;34m=\u001b[0m\u001b[0;34m[\u001b[0m\u001b[0;34m'feature_0'\u001b[0m\u001b[0;34m,\u001b[0m\u001b[0;34m'feature_1'\u001b[0m\u001b[0;34m,\u001b[0m\u001b[0;34m'feature_2'\u001b[0m\u001b[0;34m,\u001b[0m\u001b[0;34m'feature_3'\u001b[0m\u001b[0;34m,\u001b[0m\u001b[0;34m'feature_4'\u001b[0m\u001b[0;34m,\u001b[0m\u001b[0;34m'feature_5'\u001b[0m\u001b[0;34m,\u001b[0m\u001b[0;34m'feature_6'\u001b[0m\u001b[0;34m,\u001b[0m\u001b[0;34m'feature_7'\u001b[0m\u001b[0;34m,\u001b[0m\u001b[0;34m'feature_8'\u001b[0m\u001b[0;34m,\u001b[0m\u001b[0;34m'feature_9'\u001b[0m\u001b[0;34m,\u001b[0m\u001b[0;34m'feature_10'\u001b[0m\u001b[0;34m,\u001b[0m\u001b[0;34m'feature_11'\u001b[0m\u001b[0;34m,\u001b[0m\u001b[0;34m'feature_12'\u001b[0m\u001b[0;34m,\u001b[0m\u001b[0;34m'feature_13'\u001b[0m\u001b[0;34m,\u001b[0m\u001b[0;34m'feature_14'\u001b[0m\u001b[0;34m,\u001b[0m\u001b[0;34m'feature_15'\u001b[0m\u001b[0;34m,\u001b[0m\u001b[0;34m'feature_16'\u001b[0m\u001b[0;34m,\u001b[0m\u001b[0;34m'feature_17'\u001b[0m\u001b[0;34m,\u001b[0m\u001b[0;34m'feature_18'\u001b[0m\u001b[0;34m,\u001b[0m\u001b[0;34m'feature_19'\u001b[0m\u001b[0;34m,\u001b[0m\u001b[0;34m'feature_20'\u001b[0m\u001b[0;34m]\u001b[0m\u001b[0;34m\u001b[0m\u001b[0;34m\u001b[0m\u001b[0m\n\u001b[0;32m---> 20\u001b[0;31m \u001b[0mweights\u001b[0m \u001b[0;34m=\u001b[0m \u001b[0mnp\u001b[0m\u001b[0;34m.\u001b[0m\u001b[0mrandom\u001b[0m\u001b[0;34m.\u001b[0m\u001b[0mrand\u001b[0m\u001b[0;34m(\u001b[0m\u001b[0minput\u001b[0m\u001b[0;34m.\u001b[0m\u001b[0mshape\u001b[0m\u001b[0;34m[\u001b[0m\u001b[0;36m1\u001b[0m\u001b[0;34m]\u001b[0m\u001b[0;34m)\u001b[0m\u001b[0;34m\u001b[0m\u001b[0;34m\u001b[0m\u001b[0m\n\u001b[0m\u001b[1;32m     21\u001b[0m \u001b[0mbias\u001b[0m\u001b[0;34m=\u001b[0m\u001b[0;36m0.5\u001b[0m\u001b[0;34m\u001b[0m\u001b[0;34m\u001b[0m\u001b[0m\n\u001b[1;32m     22\u001b[0m \u001b[0;34m\u001b[0m\u001b[0m\n",
            "\u001b[0;31mAttributeError\u001b[0m: 'function' object has no attribute 'shape'"
          ]
        }
      ],
      "source": [
        "import numpy as np\n",
        "import pandas as pd\n",
        "import random\n",
        "\n",
        "def dataset(path_of_file):\n",
        "  df = pd.read_excel(path_of_file)\n",
        "  return df\n",
        "\n",
        "def extracting_features(df, feature_column):# Exctracting features from the datasets\n",
        "  X=df[feature_column].values\n",
        "  return X\n",
        "\n",
        "def summationUnit(X,weight, bias): #Calculating the sum\n",
        "  sum= np.dot(X,weights)+bias\n",
        "  return sum\n",
        "\n",
        "\n",
        "datasetpath=\"/content/bird_species_features.xlsx\"\n",
        "feature_columns=['feature_0','feature_1','feature_2','feature_3','feature_4','feature_5','feature_6','feature_7','feature_8','feature_9','feature_10','feature_11','feature_12','feature_13','feature_14','feature_15','feature_16','feature_17','feature_18','feature_19','feature_20']\n",
        "weights = np.random.rand(input.shape[1])\n",
        "bias=0.5\n",
        "\n",
        "Loading_dataset=dataset(datasetpath)\n",
        "X=extracting_features(Loading_dataset,feature_columns)\n",
        "finalSum = summationUnit(X, weights, bias)\n",
        "print(finalSum)\n",
        "\n",
        "\n"
      ]
    }
  ]
}