{
  "nbformat": 4,
  "nbformat_minor": 0,
  "metadata": {
    "colab": {
      "provenance": []
    },
    "kernelspec": {
      "name": "python3",
      "display_name": "Python 3"
    },
    "language_info": {
      "name": "python"
    }
  },
  "cells": [
    {
      "cell_type": "code",
      "execution_count": 3,
      "metadata": {
        "colab": {
          "base_uri": "https://localhost:8080/"
        },
        "id": "kFBOLA5quMnC",
        "outputId": "4ab820a1-6dcf-4a0f-8c16-d6594a37538d"
      },
      "outputs": [
        {
          "output_type": "stream",
          "name": "stdout",
          "text": [
            "4.8\n"
          ]
        }
      ],
      "source": [
        "class summation:\n",
        "  def __init__(self,weights,bias):\n",
        "    self.weights=weights\n",
        "    self.bias=bias\n",
        "\n",
        "  def findsum(self, input):\n",
        "    totalsummation=0\n",
        "    for weight,inputs in zip(self.weights, input):#zip pairs the corresponding elements from weights and inputs list\n",
        "      totalsummation+=weight*inputs\n",
        "    totalvalue=totalsummation+self.bias\n",
        "    return totalvalue\n",
        "\n",
        "weights=[0.5,0.4,0.3]\n",
        "bias=0.2\n",
        "sum=summation(weights,bias)\n",
        "input=[3,4,5]\n",
        "finalsummation=sum.findsum(input)\n",
        "print(finalsummation)\n"
      ]
    }
  ]
}