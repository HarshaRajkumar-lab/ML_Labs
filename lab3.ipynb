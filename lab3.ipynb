{
  "nbformat": 4,
  "nbformat_minor": 0,
  "metadata": {
    "colab": {
      "provenance": []
    },
    "kernelspec": {
      "name": "python3",
      "display_name": "Python 3"
    },
    "language_info": {
      "name": "python"
    }
  },
  "cells": [
    {
      "cell_type": "code",
      "execution_count": 1,
      "metadata": {
        "colab": {
          "base_uri": "https://localhost:8080/"
        },
        "id": "cfmiNDVRpbae",
        "outputId": "6d1d17f4-e279-4936-d27b-f88bc7063f83"
      },
      "outputs": [
        {
          "output_type": "stream",
          "name": "stdout",
          "text": [
            "Saved Fulvous Whistling Duck dataset to Fulvous_Whistling_Duck_dataset.xlsx\n",
            "Saved Lesser Whistling Duck dataset to Lesser_Whistling_Duck_dataset.xlsx\n",
            "Saved Bar-headed Goose dataset to Bar-headed_Goose_dataset.xlsx\n",
            "Saved Greylag Goose dataset to Greylag_Goose_dataset.xlsx\n",
            "Saved Greater White-fronted Goose dataset to Greater_White-fronted_Goose_dataset.xlsx\n",
            "Saved Knob-billed Duck dataset to Knob-billed_Duck_dataset.xlsx\n",
            "Saved Common Shelduck dataset to Common_Shelduck_dataset.xlsx\n",
            "Saved Ruddy Shelduck dataset to Ruddy_Shelduck_dataset.xlsx\n",
            "Saved Cotton Pygmy Goose dataset to Cotton_Pygmy_Goose_dataset.xlsx\n",
            "Saved Garganey dataset to Garganey_dataset.xlsx\n",
            "Saved Northern Shoveler dataset to Northern_Shoveler_dataset.xlsx\n",
            "Saved Gadwall dataset to Gadwall_dataset.xlsx\n",
            "Saved Eurasian Wigeon dataset to Eurasian_Wigeon_dataset.xlsx\n",
            "Saved Indian Spot-billed Duck dataset to Indian_Spot-billed_Duck_dataset.xlsx\n",
            "Saved Mallard dataset to Mallard_dataset.xlsx\n",
            "Saved Northern Pintail dataset to Northern_Pintail_dataset.xlsx\n"
          ]
        }
      ],
      "source": [
        "import pandas as pd\n",
        "import numpy as np\n",
        "from sklearn.preprocessing import LabelEncoder\n",
        "from sklearn.metrics.pairwise import euclidean_distances\n",
        "\n",
        "\n",
        "def get_dataset(path_of_file):\n",
        "  df= pd.read_excel(\"/content/bird_species_features.xlsx\")\n",
        "  return df\n",
        "\n",
        "def separate_into_classes(df, columns):\n",
        "  classes=df[columns].unique()\n",
        "  classes_datapoints={}\n",
        "  for species in classes:\n",
        "    datapoints_each_class=df[df[columns]==species]\n",
        "    classes_datapoints[species]=datapoints_each_class\n",
        "\n",
        "  return classes_datapoints\n",
        "\n",
        "def save_class_datasets(classes_datapoints):\n",
        "  for species, data in classes_datapoints.items():\n",
        "        file_name = f'{species}_dataset.xlsx'.replace(\" \", \"_\")\n",
        "        data.to_excel(file_name, index=False)\n",
        "        print(f\"Saved {species} dataset to {file_name}\")\n",
        "\n",
        "def centroid(df, columns):\n",
        "  centroids={}\n",
        "  le=LabelEncoder()#creats an instance of LabeEncoder class\n",
        "  df['encoded_class']= le.fit_transform(df[columns]) # fit.transform()learns the various class label and assigns a unique integer to each one\n",
        "  classes = df['encoded_class'].unique() #assigns the unique numeric class labels to a new column\n",
        "\n",
        "  for class_value in classes:\n",
        "        class_data = df[df['encoded_class'] == class_value].drop(columns=[columns, 'encoded_class'])#selects rows specific to a certain class and drops certain columns\n",
        "        centroids[class_value] = class_data.mean().values\n",
        "        centroids_original_name = {le.inverse_transform([k])[0]: v for k, v in centroids.items()}# converts numeric class label back to its original name\n",
        "  return centroids_original_name\n",
        "\n",
        "def intraclass_spread(df, columns):\n",
        "  spreads={}\n",
        "  le = LabelEncoder()\n",
        "  df['encoded_class'] = le.fit_transform(df[columns])\n",
        "  classes = df['encoded_class'].unique()\n",
        "  for class_value in classes:\n",
        "        class_data = df[df['encoded_class'] == class_value].drop(columns=[columns, 'encoded_class'])#Calculates standard deviation within the class\n",
        "        spread = class_data.std().values\n",
        "        spreads[le.inverse_transform([class_value])[0]] = spread\n",
        "\n",
        "  return spreads\n",
        "\n",
        "def interclass_spread(centroids):\n",
        "\n",
        "\n",
        "\n",
        "\n",
        "\n",
        "\n",
        "\n",
        "\n",
        "\n",
        "path='/content/bird_species_features.xlsx'\n",
        "\n",
        "df1=get_dataset(path)\n",
        "class_datasets = separate_into_classes(df1, 'species')\n",
        "save_class_datasets(class_datasets)\n"
      ]
    }
  ]
}