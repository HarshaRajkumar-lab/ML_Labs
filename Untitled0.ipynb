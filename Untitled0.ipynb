{
  "nbformat": 4,
  "nbformat_minor": 0,
  "metadata": {
    "colab": {
      "provenance": []
    },
    "kernelspec": {
      "name": "python3",
      "display_name": "Python 3"
    },
    "language_info": {
      "name": "python"
    }
  },
  "cells": [
    {
      "cell_type": "code",
      "execution_count": 1,
      "metadata": {
        "colab": {
          "base_uri": "https://localhost:8080/"
        },
        "id": "s8Bpf_PeGmvs",
        "outputId": "a8384a12-9ed9-40ad-8f92-942d32907e3c"
      },
      "outputs": [
        {
          "output_type": "stream",
          "name": "stdout",
          "text": [
            "The count of pairs is 2\n"
          ]
        }
      ],
      "source": [
        "num_list=[2,7,4,1,3,6]\n",
        "\n",
        "def calc_sum(num_list,sum_value):\n",
        "  count=0\n",
        "  for i in range (0,len(num_list)):\n",
        "    for j in range(i+1, len(num_list)):\n",
        "      if num_list[i]+num_list[j]==sum_value:\n",
        "        count+=1\n",
        "  return count\n",
        "\n",
        "final_value=calc_sum(num_list,10)\n",
        "print(f\"The count of pairs is {final_value}\")\n",
        "\n",
        "\n"
      ]
    },
    {
      "cell_type": "code",
      "source": [
        "def input_list(get_list):\n",
        "  lists=[]\n",
        "  for i in range(0, get_list,1):\n",
        "    ele=float(input(\"Enter the element\"))\n",
        "    lists.append(ele)\n",
        "  if len(lists)<3:\n",
        "    return \"Range determination not possible\"\n",
        "  else:\n",
        "    range1=max(lists)-min(lists)\n",
        "    return range1\n",
        "\n",
        "n=int(input(\"Enter the number of elements in the list\"))\n",
        "check=input_list(n)\n",
        "print(f\"The range is {check}\")"
      ],
      "metadata": {
        "colab": {
          "base_uri": "https://localhost:8080/"
        },
        "id": "60eYBVy4GqHz",
        "outputId": "474e9930-4d14-4d39-eb3f-981dbd138a69"
      },
      "execution_count": 9,
      "outputs": [
        {
          "output_type": "stream",
          "name": "stdout",
          "text": [
            "Enter the number of elements in the list3\n",
            "Enter the element3\n",
            "Enter the element4\n",
            "Enter the element5\n",
            "The range is 2.0\n"
          ]
        }
      ]
    },
    {
      "cell_type": "code",
      "source": [
        "n=int(input(\"Enter the no of rows of a square matrix\"))\n"
      ],
      "metadata": {
        "id": "ajantpo9Wf5E"
      },
      "execution_count": null,
      "outputs": []
    }
  ]
}